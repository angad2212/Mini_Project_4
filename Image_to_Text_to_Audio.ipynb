{
  "nbformat": 4,
  "nbformat_minor": 0,
  "metadata": {
    "colab": {
      "provenance": [],
      "include_colab_link": true
    },
    "kernelspec": {
      "name": "python3",
      "display_name": "Python 3"
    },
    "language_info": {
      "name": "python"
    }
  },
  "cells": [
    {
      "cell_type": "markdown",
      "metadata": {
        "id": "view-in-github",
        "colab_type": "text"
      },
      "source": [
        "<a href=\"https://colab.research.google.com/github/angad2212/Mini_Project_4/blob/main/Image_to_Text_to_Audio.ipynb\" target=\"_parent\"><img src=\"https://colab.research.google.com/assets/colab-badge.svg\" alt=\"Open In Colab\"/></a>"
      ]
    },
    {
      "cell_type": "code",
      "source": [
        "!sudo apt install tesseract-ocr #Tesseract is an optical character recognition (OCR) engine that is used to extract text from images or scanned documents. \n",
        "#It supports various languages and is widely used for tasks such as automated text recognition and data extraction.\n",
        "!pip install pytesseract #Python wrapper for the Tesseract OCR engine. It allows you to easily use Tesseract OCR functionalities in your Python code.\n",
        "!pip install Pillow==9.0.0 #Pillow is a Python imaging library that provides tools for image manipulation, processing, and editing. \n",
        "!pip install gTTS #short for \"Google Text-to-Speech,\" is a Python library that allows you to convert text to speech using Google Text-to-Speech API. \n",
        "#It provides a simple interface to generate audio files from text in various languages."
      ],
      "metadata": {
        "colab": {
          "base_uri": "https://localhost:8080/"
        },
        "id": "s2eYBmwDWDAJ",
        "outputId": "a77e6d2a-efe0-4779-eaf9-68ffd8339da9"
      },
      "execution_count": 4,
      "outputs": [
        {
          "output_type": "stream",
          "name": "stdout",
          "text": [
            "Reading package lists... Done\n",
            "Building dependency tree       \n",
            "Reading state information... Done\n",
            "tesseract-ocr is already the newest version (4.1.1-2build2).\n",
            "0 upgraded, 0 newly installed, 0 to remove and 38 not upgraded.\n",
            "Looking in indexes: https://pypi.org/simple, https://us-python.pkg.dev/colab-wheels/public/simple/\n",
            "Requirement already satisfied: pytesseract in /usr/local/lib/python3.10/dist-packages (0.3.10)\n",
            "Requirement already satisfied: packaging>=21.3 in /usr/local/lib/python3.10/dist-packages (from pytesseract) (23.1)\n",
            "Requirement already satisfied: Pillow>=8.0.0 in /usr/local/lib/python3.10/dist-packages (from pytesseract) (9.0.0)\n",
            "Looking in indexes: https://pypi.org/simple, https://us-python.pkg.dev/colab-wheels/public/simple/\n",
            "Requirement already satisfied: Pillow==9.0.0 in /usr/local/lib/python3.10/dist-packages (9.0.0)\n",
            "Looking in indexes: https://pypi.org/simple, https://us-python.pkg.dev/colab-wheels/public/simple/\n",
            "Requirement already satisfied: gTTS in /usr/local/lib/python3.10/dist-packages (2.3.2)\n",
            "Requirement already satisfied: requests<3,>=2.27 in /usr/local/lib/python3.10/dist-packages (from gTTS) (2.27.1)\n",
            "Requirement already satisfied: click<8.2,>=7.1 in /usr/local/lib/python3.10/dist-packages (from gTTS) (8.1.3)\n",
            "Requirement already satisfied: urllib3<1.27,>=1.21.1 in /usr/local/lib/python3.10/dist-packages (from requests<3,>=2.27->gTTS) (1.26.15)\n",
            "Requirement already satisfied: certifi>=2017.4.17 in /usr/local/lib/python3.10/dist-packages (from requests<3,>=2.27->gTTS) (2022.12.7)\n",
            "Requirement already satisfied: charset-normalizer~=2.0.0 in /usr/local/lib/python3.10/dist-packages (from requests<3,>=2.27->gTTS) (2.0.12)\n",
            "Requirement already satisfied: idna<4,>=2.5 in /usr/local/lib/python3.10/dist-packages (from requests<3,>=2.27->gTTS) (3.4)\n"
          ]
        }
      ]
    },
    {
      "cell_type": "code",
      "execution_count": 5,
      "metadata": {
        "id": "DwgN11GcUIvf",
        "colab": {
          "base_uri": "https://localhost:8080/"
        },
        "outputId": "6c370bc9-0250-4f4a-da17-2b2d6d754735"
      },
      "outputs": [
        {
          "output_type": "stream",
          "name": "stdout",
          "text": [
            "pygame 2.3.0 (SDL 2.24.2, Python 3.10.12)\n",
            "Hello from the pygame community. https://www.pygame.org/contribute.html\n"
          ]
        }
      ],
      "source": [
        "import pytesseract  \n",
        "from PIL import Image #imports image from Python Image Library\n",
        "import pygame\n",
        "import gtts\n",
        "#import pyttsx3\n",
        "#from googletrans import Translator"
      ]
    },
    {
      "cell_type": "code",
      "source": [
        "img = Image.open('/content/testpic.png') #uploading the image from the local machine\n",
        "print(img)"
      ],
      "metadata": {
        "colab": {
          "base_uri": "https://localhost:8080/"
        },
        "id": "UCVJlIoWUaO0",
        "outputId": "65903a08-10b6-4529-f894-ca38bdad7cce"
      },
      "execution_count": 6,
      "outputs": [
        {
          "output_type": "stream",
          "name": "stdout",
          "text": [
            "<PIL.PngImagePlugin.PngImageFile image mode=P size=220x320 at 0x7FADBAEA4790>\n"
          ]
        }
      ]
    },
    {
      "cell_type": "markdown",
      "source": [
        "we can also add an exception that when an image doesnt contain any text, or there is no image found, there should be an output telling the same\n"
      ],
      "metadata": {
        "id": "a4xUBH3JVrX8"
      }
    },
    {
      "cell_type": "code",
      "source": [
        "try:\n",
        "    result = pytesseract.image_to_string(img)\n",
        "\n",
        "    if result.strip():  # Checking if the extracted text is not empty or contains only whitespace\n",
        "        print(result)\n",
        "        tts = gtts.gTTS(result)\n",
        "        tts.save(\"output.mp3\")\n",
        "    else:\n",
        "        print(\"No text found in the image.\")\n",
        "        \n",
        "except FileNotFoundError:\n",
        "    print(\"Image file not found.\")\n"
      ],
      "metadata": {
        "id": "509V9dD8hjL7",
        "colab": {
          "base_uri": "https://localhost:8080/"
        },
        "outputId": "b5a2a0cb-dd78-49f9-d867-5521234edfeb"
      },
      "execution_count": 12,
      "outputs": [
        {
          "output_type": "stream",
          "name": "stdout",
          "text": [
            " \n",
            "\n",
            " \n",
            "\n",
            "Tomorrow, and\n",
            "tomorrow, and\n",
            "tomorrow; creeps\n",
            "in this petty pace\n",
            "from day to day,\n",
            "until the last syll-\n",
            "able of recorded\n",
            "time. And all our\n",
            "yesterdays have\n",
            "lighted fools the\n",
            "way to dusty\n",
            "\n",
            " \n",
            "\n",
            " \n",
            "\f\n"
          ]
        }
      ]
    }
  ]
}